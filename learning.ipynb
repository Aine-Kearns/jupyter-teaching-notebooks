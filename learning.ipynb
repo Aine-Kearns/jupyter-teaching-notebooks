{
 "cells": [
  {
   "cell_type": "markdown",
   "metadata": {},
   "source": [
    "# Learning"
   ]
  },
  {
   "cell_type": "markdown",
   "metadata": {},
   "source": [
    "## Functions\n",
    "- In programming, we usually write functions where we know exactly what the return value should be for given inputs, and we know precisely the basic steps the function should take in sequence to determine the return value.\n",
    "- For instance, consider the following function to calculate the greatest common divisor of two numbers.\n",
    "\n",
    "![Euclid](https://upload.wikimedia.org/wikipedia/commons/3/30/Euklid-von-Alexandria_1.jpg)"
   ]
  },
  {
   "cell_type": "code",
   "execution_count": 1,
   "metadata": {},
   "outputs": [],
   "source": [
    "def gcd(a, b):\n",
    "  \"\"\"Calculate the Greatest Common Divisor of the integers a and b.\"\"\"\n",
    "  # b evaluates as true unless it is zero.\n",
    "  while b:\n",
    "    # Set the new value of a to the old value of b, and the new value of\n",
    "    # b to the old value of a modulo the old value of a.\n",
    "    a, b = b, (a % b)\n",
    "  # Once b is zero, a is the GCD."
   ]
  },
  {
   "cell_type": "markdown",
   "metadata": {},
   "source": [
    "\n",
    "- The function, while not trivial, is straight-forward and precise.\n",
    "- It's clear that the inputs should be two numbers (natural numbers, in fact), and the return value will also be a (natural) number.\n",
    "- There is an infinity of natural numbers, so theoretically we can't write a list of all the inputs and their respective outputs. However, in practice a computer can only store a limited amount of natural numbers of limited size.\n",
    "- In any case, it's clear we know a lot about the task of calculating the greatest common divisor.\n",
    "\n",
    "***"
   ]
  },
  {
   "cell_type": "markdown",
   "metadata": {},
   "source": [
    "## Driving a car\n",
    "\n",
    "![Tesla's Self-Driving Car](https://upload.wikimedia.org/wikipedia/commons/thumb/e/e7/Tesla_Autopilot_Engaged_in_Model_X.jpg/640px-Tesla_Autopilot_Engaged_in_Model_X.jpg)\n",
    "\n",
    "- Now consider instead something quite complex: driving a car.\n",
    "- Can we write a function to do this task?\n",
    "- We'll suppose the function will be called on an infinite loop, say every 1000th of a second. At each call the function should return the action to take to safely drive the car.\n",
    "\n",
    "***"
   ]
  },
  {
   "cell_type": "markdown",
   "metadata": {},
   "source": [
    "## Outputs\n",
    "\n",
    "![Car Interface](https://www.kirchhoff-mobility.com/fileadmin/Produkte/fahr-bedienhilfen/gasring-k4_01.jpg)\n",
    "\n",
    "- The outputs of the function are straight-forward.\n",
    "- The user interface for a car mainly comprises of a steering wheel, an accelerator, and a brake. We'll assume the car is an automatic and we won't worry about the handbrake or turning signals or lights.\n",
    "- We can measure the turning of the steering wheel in degrees, with zero degrees meaning the steering wheel is straight, -90 meaning the wheel has a quarter turn counter-clockwise and 90 meaning it has a quarter turn clockwise, etc.\n",
    "- We can measure each of the accelerator and brake in terms of how hard they are pressed on a linear scale from 0 to 100. If we are not pressing the pedal we'll say that's 0, and at a full press it's 100. 50 means we half press it.\n",
    "- So, the output of our function will be a triple, e.g. (-180, 0, 20) meaning turn the wheel to -180 degrees, don't press the accelerator at all, and press the break to 20%.\n",
    "\n",
    "***"
   ]
  },
  {
   "cell_type": "markdown",
   "metadata": {},
   "source": [
    "## Inputs\n",
    "\n",
    "- The inputs to the function are also somewhat straight-forward.\n",
    "- First, the current positions of the steering wheel, break and accelerator are relevant inputs. We don't want to go from 100 on the accelerator to 100 on the break in 1 millisecond.\n",
    "- In fact, we probably need to use the array of positions from the past minute or so, as inputs to give a smooth driving experience. Either way, while it's a lot of data, it's not very complex.\n",
    "\n",
    "\n",
    "![View from driver's seat](http://www.attorneynewmexico.com/wp-content/uploads/2012/08/windshield-laws.jpg)\n",
    "\n",
    "\n",
    "- The main input you would imagine we need is the view from the driver's seat. This can be provided by a digital camera (or an array of cameras). The camera will give us a big array of pixels (millions of them). Each pixel will have a red value (say, between 0 and 255), a blue value, and a green value. These are just small integers. While there are a lot of them, again, they're not very complex.\n",
    "- We can go one step further in that we can use lots of sensors placed on the outside of the car to gauge how close the car is to outside objects, and again we'll got lots of numbers.\n",
    "\n",
    "***"
   ]
  },
  {
   "cell_type": "markdown",
   "metadata": {},
   "source": [
    "## Difficulties\n",
    "- Now we have two difficult (possibly impossible) problems.\n",
    "- First, when we say that we want the function to correctly drive the car, how do define **correct**. Different humans would drive the car differently. Any sensible answers will define a list of criteria, such as not crashing into walls or people, but won't be exact.\n",
    "- Second, should we be able to give a concrete description of correctness, how do we convert the inputs into those outputs?\n",
    "- In the machine learning community there seems to be an acceptance that there is not going to be a deterministicly-based answer to these questions any time soon, and perhaps never.\n",
    "\n",
    "> I believed in realism, as summarized by John McCarthy’s comment to the effect that if we worked really hard, we’d have an intelligent system in from four to four hundred years. - *Marvin Minsky*\n",
    "\n",
    "***"
   ]
  },
  {
   "cell_type": "markdown",
   "metadata": {},
   "source": [
    "## Supervised learning\n",
    "- Instead, we rely on supervised learning.\n",
    "- We start with a set of inputs for which we know the outputs we want.\n",
    "- We then train a model with these input-output pairs.\n",
    "- We do it by using a very generic function (or set of functions) that can be moulded to mimic a whole load of other functions depending on how we train them.\n",
    "- We train them by giving them the input-output pairs and having them tweak themselves to give (at least approximately) the given output when provided with the given input.\n",
    "\n",
    "> A computer program learns from experience E, with respect to some task T, and some performance measure P, if its performance on T as measured by P improves with experience E. - *Tom Mitchell*"
   ]
  },
  {
   "cell_type": "markdown",
   "metadata": {},
   "source": [
    "## End"
   ]
  }
 ],
 "metadata": {
  "kernelspec": {
   "display_name": "Python 3",
   "language": "python",
   "name": "python3"
  },
  "language_info": {
   "codemirror_mode": {
    "name": "ipython",
    "version": 3
   },
   "file_extension": ".py",
   "mimetype": "text/x-python",
   "name": "python",
   "nbconvert_exporter": "python",
   "pygments_lexer": "ipython3",
   "version": "3.6.6"
  }
 },
 "nbformat": 4,
 "nbformat_minor": 2
}
