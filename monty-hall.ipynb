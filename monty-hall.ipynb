{
 "cells": [
  {
   "cell_type": "markdown",
   "metadata": {},
   "source": [
    "# Monty Hall"
   ]
  },
  {
   "cell_type": "code",
   "execution_count": 9,
   "metadata": {},
   "outputs": [
    {
     "name": "stdout",
     "output_type": "stream",
     "text": [
      "[1, 1, 1, 1, 2, 3, 1, 2, 2, 3, 2, 2, 3, 3, 3, 2, 2, 3, 3, 3, 3, 2, 1, 3, 1, 1, 2, 3, 2, 1, 1, 2, 3, 2, 3, 3, 2, 1, 1, 1, 3, 2, 2, 3, 2, 1, 3, 3, 2, 3, 2, 3, 3, 1, 3, 1, 3, 2, 2, 3, 2, 3, 1, 1, 2, 3, 3, 1, 3, 1, 1, 2, 1, 2, 3, 1, 2, 1, 1, 1, 2, 1, 1, 1, 3, 1, 3, 2, 3, 1, 1, 3, 2, 1, 3, 1, 2, 2, 3, 1, 1, 1, 1, 1, 1, 3, 3, 2, 1, 1, 2, 3, 1, 1, 1, 1, 1, 1, 2, 1, 1, 1, 1, 1, 3, 3, 3, 1, 1, 3, 2, 3, 3, 2, 2, 1, 3, 2, 2, 3, 3, 2, 1, 3, 1, 2, 2, 2, 2, 2, 2, 2, 3, 3, 1, 3, 3, 1, 3, 3, 1, 3, 1, 2, 2, 1, 1, 2, 2, 1, 2, 2, 3, 1, 3, 2, 2, 2, 2, 2, 2, 2, 1, 1, 3, 2, 1, 2, 1, 2, 3, 3, 2, 1, 3, 1, 1, 2, 1, 1, 2, 3, 2, 2, 2, 3, 3, 2, 2, 1, 2, 2, 1, 1, 1, 2, 3, 2, 1, 2, 2, 1, 1, 3, 1, 3, 2, 3, 2, 1, 1, 2, 2, 2, 3, 1, 2, 1, 1, 1, 3, 3, 2, 2, 2, 2, 2, 1, 3, 1, 2, 2, 3, 3, 1, 1, 1, 2, 2, 3, 3, 3, 2, 1, 1, 1, 2, 1, 2, 1, 2, 3, 3, 3, 2, 1, 1, 3, 1, 2, 3, 3, 3, 3, 1, 1, 3, 2, 3, 3, 1, 1, 1, 1, 2, 3, 2, 3, 3, 2, 1, 1, 1, 1, 1, 1, 1, 1, 1, 3, 3, 3, 2, 3, 3, 2, 3, 2, 1, 3, 1, 1, 3, 2, 3, 1, 3, 3, 2, 1, 2, 1, 1, 3, 2, 1, 1, 1, 2, 3, 2, 3, 1, 3, 3, 1, 2, 2, 3, 2, 2, 3, 3, 2, 2, 2, 1, 3, 3, 1, 1, 1, 3, 3, 3, 3, 3, 3, 2, 2, 2, 1, 2, 2, 1, 1, 1, 1, 3, 1, 2, 1, 1, 1, 2, 2, 1, 3, 3, 1, 3, 1, 1, 2, 3, 3, 2, 1, 2, 3, 1, 1, 1, 1, 1, 2, 2, 3, 1, 3, 1, 1, 3, 3, 3, 1, 2, 1, 2, 3, 1, 3, 3, 2, 1, 2, 2, 1, 2, 1, 2, 1, 2, 3, 1, 1, 1, 2, 3, 2, 3, 3, 2, 2, 3, 1, 3, 2, 3, 2, 3, 1, 2, 2, 3, 3, 2, 3, 2, 1, 1, 3, 2, 3, 3, 3, 1, 2, 2, 1, 2, 1, 1, 1, 2, 3, 1, 1, 2, 1, 2, 1, 3, 1, 1, 2, 3, 3, 3, 2, 1, 3, 3, 2, 2, 1, 3, 2, 3, 2, 1, 2, 2, 2, 1, 2, 2, 1, 2, 1, 2, 1, 2, 1, 2, 2, 1, 2, 2, 2, 1, 1, 1, 1, 1, 3, 3, 3, 1, 2, 2, 3, 3, 3, 1, 2, 2, 3, 1, 2, 1, 2, 3, 1, 3, 1, 2, 1, 2, 1, 2, 3, 1, 2, 2, 2, 1, 2, 3, 2, 3, 2, 1, 2, 3, 1, 3, 1, 1, 3, 2, 3, 1, 2, 3, 3, 3, 1, 2, 1, 3, 1, 2, 3, 3, 3, 3, 3, 3, 2, 1, 2, 2, 2, 2, 1, 3, 3, 2, 3, 1, 3, 1, 3, 3, 1, 1, 1, 3, 2, 2, 2, 2, 1, 2, 1, 3, 2, 3, 3, 1, 1, 3, 2, 1, 2, 2, 3, 2, 2, 3, 1, 1, 1, 1, 1, 3, 3, 3, 2, 1, 3, 2, 1, 1, 1, 1, 3, 1, 3, 1, 2, 1, 1, 1, 1, 1, 2, 1, 3, 1, 1, 1, 1, 2, 3, 1, 2, 3, 1, 1, 2, 2, 2, 1, 3, 1, 3, 2, 2, 3, 3, 3, 2, 2, 1, 3, 2, 3, 3, 2, 2, 1, 2, 3, 1, 3, 1, 1, 1, 3, 3, 1, 1, 1, 1, 1, 3, 2, 1, 3, 2, 1, 2, 2, 2, 3, 3, 3, 1, 1, 3, 2, 3, 3, 1, 1, 2, 3, 3, 1, 1, 2, 2, 3, 1, 1, 3, 1, 1, 1, 2, 3, 2, 2, 2, 1, 1, 3, 3, 3, 3, 2, 2, 2, 2, 2, 1, 2, 1, 3, 2, 2, 3, 3, 2, 2, 2, 2, 2, 3, 1, 1, 3, 2, 3, 1, 1, 3, 1, 1, 2, 1, 3, 3, 1, 2, 2, 1, 1, 2, 2, 1, 2, 3, 3, 2, 2, 3, 1, 3, 2, 3, 1, 3, 3, 1, 1, 2, 1, 3, 3, 1, 2, 1, 3, 2, 3, 1, 2, 3, 3, 2, 3, 2, 3, 2, 3, 2, 1, 3, 3, 3, 3, 3, 2, 2, 3, 3, 1, 1, 1, 2, 1, 1, 2, 2, 2, 2, 3, 1, 3, 1, 1, 3, 2, 1, 2, 2, 2, 1, 1, 3, 1, 2, 2, 3, 2, 1, 3, 2, 1, 2, 3, 1, 1, 1, 3, 3, 1, 3, 3, 2, 1, 2, 3, 2, 1, 3, 2, 3, 1, 3, 1, 2, 3, 1, 3, 2, 1, 2, 3, 2, 2, 1, 2, 3, 1, 1, 3, 1, 1, 3, 3, 3, 2, 3, 1, 1, 1, 3, 1, 3, 1, 1, 2, 1, 1, 1, 2, 3, 2, 1, 3, 1, 2, 3, 2, 2, 2, 3, 1, 2, 1, 3, 2, 1, 3, 2, 1, 1, 1, 1, 3, 3, 1, 1, 3, 1, 3, 1, 2, 1, 3, 1, 1, 1, 2, 3, 3, 2, 1, 3, 1, 2, 1, 3, 1, 3, 3, 2, 2, 1, 1, 3, 1, 2, 3, 1, 1, 2, 3, 1, 2, 2, 1, 3, 1, 1, 1]\n"
     ]
    }
   ],
   "source": [
    "import numpy as np\n",
    "\n",
    "def selectdoor():\n",
    "    randomno = np.random.uniform(0.0, 3.0)\n",
    "    if randomno < 1.0:\n",
    "        return 1\n",
    "    elif randomno < 2.0:\n",
    "        return 2\n",
    "    else:\n",
    "        return 3\n",
    "\n",
    "cars = [selectdoor() for i in range(1000)]\n",
    "print(cars)"
   ]
  },
  {
   "cell_type": "code",
   "execution_count": 10,
   "metadata": {},
   "outputs": [
    {
     "data": {
      "image/png": "[encoded data removed]",
      "text/plain": [
       "<Figure size 432x288 with 1 Axes>"
      ]
     },
     "metadata": {},
     "output_type": "display_data"
    }
   ],
   "source": [
    "import matplotlib.pyplot as pl\n",
    "\n",
    "pl.hist(doors)\n",
    "pl.show()"
   ]
  },
  {
   "cell_type": "code",
   "execution_count": null,
   "metadata": {},
   "outputs": [],
   "source": []
  }
 ],
 "metadata": {
  "kernelspec": {
   "display_name": "Python 3",
   "language": "python",
   "name": "python3"
  },
  "language_info": {
   "codemirror_mode": {
    "name": "ipython",
    "version": 3
   },
   "file_extension": ".py",
   "mimetype": "text/x-python",
   "name": "python",
   "nbconvert_exporter": "python",
   "pygments_lexer": "ipython3",
   "version": "3.6.5"
  }
 },
 "nbformat": 4,
 "nbformat_minor": 2
}
