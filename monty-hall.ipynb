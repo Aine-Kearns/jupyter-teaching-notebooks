{
 "cells": [
  {
   "cell_type": "markdown",
   "metadata": {},
   "source": [
    "# Monty Hall"
   ]
  },
  {
   "cell_type": "code",
   "execution_count": 1,
   "metadata": {},
   "outputs": [
    {
     "name": "stdout",
     "output_type": "stream",
     "text": [
      "[1, 2, 3, 1, 1, 3, 3, 1, 2, 2, 3, 3, 3, 1, 3, 2, 1, 2, 3, 2, 3, 1, 2, 1, 3, 1, 2, 2, 1, 2, 3, 2, 2, 3, 1, 2, 3, 3, 1, 2, 1, 1, 2, 2, 3, 3, 2, 1, 1, 1, 1, 1, 2, 1, 1, 1, 2, 3, 3, 2, 3, 1, 2, 1, 1, 2, 2, 2, 2, 2, 2, 3, 2, 1, 2, 3, 1, 3, 3, 1, 3, 3, 2, 3, 2, 1, 1, 1, 3, 2, 3, 3, 2, 2, 1, 1, 3, 3, 2, 3, 3, 1, 1, 3, 1, 2, 3, 3, 1, 2, 2, 1, 3, 2, 1, 2, 3, 1, 2, 3, 2, 1, 1, 1, 1, 2, 3, 2, 2, 3, 1, 1, 2, 2, 1, 1, 2, 2, 3, 3, 1, 3, 3, 2, 3, 3, 1, 2, 3, 2, 3, 3, 3, 2, 1, 2, 2, 2, 1, 1, 1, 3, 3, 1, 3, 2, 3, 3, 2, 3, 3, 2, 1, 1, 1, 1, 1, 3, 2, 2, 2, 2, 1, 3, 3, 2, 3, 3, 3, 3, 3, 2, 2, 3, 1, 3, 2, 1, 1, 2, 1, 3, 1, 2, 2, 2, 3, 2, 3, 3, 2, 1, 2, 1, 3, 3, 3, 2, 2, 1, 2, 1, 2, 1, 1, 1, 1, 1, 3, 3, 3, 2, 2, 2, 2, 1, 3, 2, 3, 3, 1, 3, 3, 3, 3, 2, 2, 2, 3, 2, 3, 3, 3, 3, 2, 3, 1, 3, 3, 1, 1, 2, 3, 3, 1, 1, 3, 3, 3, 1, 1, 2, 1, 1, 3, 1, 1, 1, 2, 2, 1, 1, 2, 3, 1, 1, 3, 3, 2, 2, 1, 2, 2, 2, 2, 3, 1, 3, 1, 2, 1, 3, 3, 3, 1, 2, 1, 3, 2, 3, 3, 1, 2, 1, 1, 3, 3, 1, 2, 3, 1, 2, 1, 3, 1, 2, 1, 3, 1, 1, 2, 1, 2, 2, 2, 2, 1, 2, 3, 1, 2, 3, 2, 3, 3, 1, 1, 1, 1, 3, 2, 2, 3, 1, 3, 3, 2, 3, 2, 2, 3, 3, 3, 3, 2, 3, 1, 1, 1, 2, 2, 3, 3, 1, 1, 2, 3, 2, 2, 2, 3, 3, 2, 2, 2, 3, 3, 2, 2, 1, 3, 1, 1, 2, 1, 2, 1, 2, 2, 3, 1, 3, 2, 1, 3, 1, 2, 1, 3, 1, 1, 2, 1, 1, 2, 3, 2, 2, 2, 3, 2, 2, 2, 1, 2, 3, 1, 3, 2, 1, 3, 2, 1, 2, 1, 3, 2, 2, 1, 1, 2, 3, 2, 3, 2, 1, 2, 1, 2, 2, 1, 2, 2, 3, 2, 2, 3, 1, 2, 2, 1, 2, 1, 1, 1, 3, 3, 3, 3, 1, 2, 1, 1, 3, 3, 2, 1, 3, 2, 2, 3, 3, 2, 2, 1, 2, 1, 1, 3, 3, 3, 2, 2, 3, 2, 3, 1, 3, 3, 1, 2, 3, 2, 3, 2, 3, 3, 1, 2, 2, 1, 3, 3, 3, 1, 2, 3, 2, 1, 3, 3, 3, 1, 2, 1, 1, 1, 1, 2, 3, 3, 3, 2, 3, 1, 3, 2, 2, 1, 2, 1, 3, 3, 3, 2, 1, 1, 3, 1, 3, 3, 2, 2, 1, 2, 2, 1, 1, 1, 1, 2, 3, 3, 3, 1, 2, 1, 3, 1, 2, 1, 3, 2, 2, 2, 2, 2, 1, 1, 3, 3, 2, 1, 1, 3, 2, 1, 2, 2, 1, 2, 1, 1, 1, 2, 3, 1, 3, 3, 2, 3, 1, 2, 3, 1, 1, 1, 1, 3, 3, 3, 3, 2, 1, 2, 1, 3, 1, 3, 1, 2, 1, 3, 2, 3, 2, 1, 3, 1, 3, 1, 1, 2, 1, 2, 1, 2, 2, 1, 1, 3, 1, 1, 3, 2, 1, 3, 1, 2, 3, 1, 3, 1, 1, 2, 3, 3, 2, 2, 2, 3, 1, 2, 2, 2, 2, 3, 1, 3, 1, 1, 3, 2, 2, 2, 1, 2, 1, 1, 2, 3, 2, 3, 2, 1, 1, 3, 3, 1, 1, 2, 3, 3, 3, 1, 2, 1, 3, 3, 3, 1, 3, 1, 1, 1, 3, 1, 1, 1, 3, 1, 1, 1, 3, 3, 3, 3, 2, 1, 2, 1, 3, 3, 2, 2, 3, 1, 1, 2, 3, 1, 3, 2, 2, 2, 1, 3, 1, 1, 2, 1, 1, 3, 2, 2, 1, 2, 1, 1, 2, 3, 1, 3, 3, 2, 1, 2, 2, 2, 1, 2, 3, 1, 2, 3, 3, 2, 3, 1, 2, 1, 1, 3, 3, 1, 1, 2, 3, 2, 3, 2, 3, 1, 2, 1, 3, 3, 3, 2, 2, 1, 2, 1, 3, 2, 3, 1, 3, 3, 1, 3, 2, 1, 3, 2, 3, 2, 3, 2, 1, 1, 2, 1, 2, 3, 3, 1, 1, 1, 2, 1, 3, 3, 2, 1, 1, 3, 1, 1, 3, 3, 2, 2, 1, 1, 2, 2, 2, 2, 2, 1, 1, 1, 3, 3, 1, 1, 1, 2, 1, 2, 1, 2, 1, 2, 3, 1, 1, 2, 2, 2, 1, 2, 2, 1, 2, 2, 2, 1, 2, 1, 3, 3, 1, 3, 1, 2, 3, 2, 1, 2, 3, 1, 2, 1, 2, 3, 3, 3, 1, 2, 1, 2, 2, 3, 2, 1, 3, 3, 2, 3, 2, 2, 3, 3, 3, 3, 3, 3, 1, 1, 1, 3, 2, 3, 2, 1, 1, 3, 2, 3, 1, 2, 1, 2, 1, 2, 2, 3, 3, 3, 1, 2, 2, 1, 3, 3, 1, 2, 2, 3, 1, 1, 2, 1, 3, 2, 3, 3, 2, 3, 1, 1, 3, 1, 3, 3, 2, 2, 3, 2, 3, 3, 2, 1, 3, 1, 2, 3, 2, 2, 1, 3, 3, 1, 3, 1, 1, 3, 3, 3, 3, 2, 1, 1, 1, 3, 2, 2, 2, 3, 2, 1, 3, 3, 3, 3, 3, 1, 2]\n"
     ]
    }
   ],
   "source": [
    "import numpy as np\n",
    "\n",
    "def selectdoor():\n",
    "    randomno = np.random.uniform(0.0, 3.0)\n",
    "    if randomno < 1.0:\n",
    "        return 1\n",
    "    elif randomno < 2.0:\n",
    "        return 2\n",
    "    else:\n",
    "        return 3\n",
    "\n",
    "cars = [selectdoor() for i in range(1000)]\n",
    "print(cars)"
   ]
  },
  {
   "cell_type": "code",
   "execution_count": 12,
   "metadata": {},
   "outputs": [
    {
     "data": {
      "image/png": "[encoded data removed]",
      "text/plain": [
       "<Figure size 720x432 with 1 Axes>"
      ]
     },
     "metadata": {},
     "output_type": "display_data"
    }
   ],
   "source": [
    "import seaborn as sns\n",
    "import matplotlib.pyplot as pl\n",
    "\n",
    "pl.figure(figsize=(10, 6))\n",
    "sns.set(style=\"darkgrid\")\n",
    "ax = sns.countplot(y=cars)\n",
    "pl.show()"
   ]
  },
  {
   "cell_type": "markdown",
   "metadata": {},
   "source": [
    "# Student game"
   ]
  },
  {
   "cell_type": "code",
   "execution_count": 3,
   "metadata": {},
   "outputs": [],
   "source": [
    "randomno = np.random.uniform(0.0, 3.0)"
   ]
  },
  {
   "cell_type": "code",
   "execution_count": 13,
   "metadata": {},
   "outputs": [
    {
     "data": {
      "text/plain": [
       "1.2824406697752018"
      ]
     },
     "execution_count": 13,
     "metadata": {},
     "output_type": "execute_result"
    }
   ],
   "source": [
    "randomno"
   ]
  },
  {
   "cell_type": "code",
   "execution_count": 41,
   "metadata": {},
   "outputs": [],
   "source": [
    "import random\n",
    "\n",
    "car = random.choice(['A','B','C'])"
   ]
  },
  {
   "cell_type": "code",
   "execution_count": 42,
   "metadata": {},
   "outputs": [],
   "source": [
    "doors = ['A', 'B', 'C']"
   ]
  },
  {
   "cell_type": "code",
   "execution_count": 43,
   "metadata": {},
   "outputs": [],
   "source": [
    "doors.remove(car)"
   ]
  },
  {
   "cell_type": "code",
   "execution_count": 44,
   "metadata": {},
   "outputs": [
    {
     "data": {
      "text/plain": [
       "['A', 'C']"
      ]
     },
     "execution_count": 44,
     "metadata": {},
     "output_type": "execute_result"
    }
   ],
   "source": [
    "doors"
   ]
  },
  {
   "cell_type": "code",
   "execution_count": 45,
   "metadata": {},
   "outputs": [
    {
     "data": {
      "text/plain": [
       "'B'"
      ]
     },
     "execution_count": 45,
     "metadata": {},
     "output_type": "execute_result"
    }
   ],
   "source": [
    "car"
   ]
  },
  {
   "cell_type": "code",
   "execution_count": 46,
   "metadata": {},
   "outputs": [],
   "source": [
    "picked = 'A'"
   ]
  },
  {
   "cell_type": "code",
   "execution_count": 47,
   "metadata": {},
   "outputs": [],
   "source": [
    "try:\n",
    "    doors.remove(picked)\n",
    "except ValueError:\n",
    "    pass"
   ]
  },
  {
   "cell_type": "code",
   "execution_count": 48,
   "metadata": {},
   "outputs": [],
   "source": [
    "show = random.choice(doors)"
   ]
  },
  {
   "cell_type": "code",
   "execution_count": 49,
   "metadata": {},
   "outputs": [
    {
     "data": {
      "text/plain": [
       "'C'"
      ]
     },
     "execution_count": 49,
     "metadata": {},
     "output_type": "execute_result"
    }
   ],
   "source": [
    "show"
   ]
  },
  {
   "cell_type": "code",
   "execution_count": 50,
   "metadata": {},
   "outputs": [
    {
     "data": {
      "text/plain": [
       "['C']"
      ]
     },
     "execution_count": 50,
     "metadata": {},
     "output_type": "execute_result"
    }
   ],
   "source": [
    "doors"
   ]
  },
  {
   "cell_type": "code",
   "execution_count": 20,
   "metadata": {},
   "outputs": [],
   "source": [
    "test = input(\"Hello: \")"
   ]
  },
  {
   "cell_type": "code",
   "execution_count": 15,
   "metadata": {},
   "outputs": [],
   "source": [
    "import ipywidgets as widgets\n",
    "import IPython.display as display"
   ]
  },
  {
   "cell_type": "code",
   "execution_count": 18,
   "metadata": {},
   "outputs": [
    {
     "data": {
      "application/vnd.jupyter.widget-view+json": {
       "model_id": "8ba092151af349dfae3d47f9204f7c5d",
       "version_major": 2,
       "version_minor": 0
      },
      "text/plain": [
       "RadioButtons(description='Pizza topping:', options=('pepperoni', 'pineapple', 'anchovies'), value='pepperoni')"
      ]
     },
     "metadata": {},
     "output_type": "display_data"
    }
   ],
   "source": [
    "w = widgets.RadioButtons(\n",
    "    options=['pepperoni', 'pineapple', 'anchovies'],\n",
    "#     value='pineapple',\n",
    "    description='Pizza topping:',\n",
    "    disabled=False\n",
    ")\n",
    "\n",
    "display.display(w)"
   ]
  },
  {
   "cell_type": "code",
   "execution_count": 19,
   "metadata": {},
   "outputs": [
    {
     "data": {
      "text/plain": [
       "'7.2.1'"
      ]
     },
     "execution_count": 19,
     "metadata": {},
     "output_type": "execute_result"
    }
   ],
   "source": [
    "import ipywidgets\n",
    "ipywidgets.__version__"
   ]
  },
  {
   "cell_type": "code",
   "execution_count": null,
   "metadata": {},
   "outputs": [],
   "source": []
  }
 ],
 "metadata": {
  "kernelspec": {
   "display_name": "Python 3",
   "language": "python",
   "name": "python3"
  },
  "language_info": {
   "codemirror_mode": {
    "name": "ipython",
    "version": 3
   },
   "file_extension": ".py",
   "mimetype": "text/x-python",
   "name": "python",
   "nbconvert_exporter": "python",
   "pygments_lexer": "ipython3",
   "version": "3.6.6"
  }
 },
 "nbformat": 4,
 "nbformat_minor": 2
}
