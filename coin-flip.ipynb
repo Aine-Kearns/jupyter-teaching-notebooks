{
 "cells": [
  {
   "cell_type": "markdown",
   "metadata": {},
   "source": [
    "# Coin flipping"
   ]
  },
  {
   "cell_type": "code",
   "execution_count": 2,
   "metadata": {},
   "outputs": [],
   "source": [
    "import numpy as np"
   ]
  },
  {
   "cell_type": "code",
   "execution_count": 3,
   "metadata": {},
   "outputs": [
    {
     "data": {
      "text/plain": [
       "array([1])"
      ]
     },
     "execution_count": 3,
     "metadata": {},
     "output_type": "execute_result"
    }
   ],
   "source": [
    "np.random.binomial(1, 0.5, 1)"
   ]
  },
  {
   "cell_type": "code",
   "execution_count": 4,
   "metadata": {},
   "outputs": [
    {
     "data": {
      "text/plain": [
       "array([0])"
      ]
     },
     "execution_count": 4,
     "metadata": {},
     "output_type": "execute_result"
    }
   ],
   "source": [
    "np.random.binomial(1, 0.5, 1)"
   ]
  },
  {
   "cell_type": "code",
   "execution_count": 7,
   "metadata": {},
   "outputs": [
    {
     "data": {
      "text/plain": [
       "array([0, 0, 0, 1, 0, 0, 1, 1, 0, 0, 1, 0, 1, 1, 1, 0, 0, 1, 1, 1, 0, 1,\n",
       "       1, 0, 1, 0, 1, 1, 1, 0, 1, 0, 0, 1, 0, 0, 1, 1, 1, 1, 0, 1, 0, 0,\n",
       "       1, 0, 1, 1, 0, 1, 1, 1, 1, 1, 1, 1, 0, 1, 1, 0, 0, 0, 1, 0, 0, 1,\n",
       "       1, 1, 1, 1, 0, 1, 0, 0, 1, 0, 0, 0, 0, 1, 0, 0, 1, 0, 0, 0, 1, 0,\n",
       "       1, 0, 0, 1, 1, 1, 0, 1, 1, 1, 0, 1])"
      ]
     },
     "execution_count": 7,
     "metadata": {},
     "output_type": "execute_result"
    }
   ],
   "source": [
    "np.random.binomial(1, 0.5, 100)"
   ]
  },
  {
   "cell_type": "code",
   "execution_count": 10,
   "metadata": {},
   "outputs": [
    {
     "data": {
      "text/plain": [
       "array([59, 46, 51, 54, 46, 46, 51, 50, 55, 43, 56, 44, 49, 56, 55, 49, 55,\n",
       "       56, 50, 50, 50, 55, 49, 41, 51, 50, 52, 46, 45, 47, 44, 45, 44, 55,\n",
       "       49, 47, 53, 50, 49, 48, 56, 49, 38, 53, 44, 53, 46, 49, 47, 44, 52,\n",
       "       47, 48, 52, 53, 50, 40, 46, 52, 52, 45, 55, 41, 43, 58, 53, 52, 57,\n",
       "       59, 52, 57, 47, 54, 44, 50, 55, 44, 55, 57, 47, 49, 51, 51, 53, 51,\n",
       "       56, 51, 45, 53, 48, 60, 50, 48, 44, 55, 47, 60, 46, 47, 58, 44, 59,\n",
       "       49, 51, 52, 46, 38, 52, 46, 42, 55, 50, 45, 46, 43, 58, 47, 53, 45,\n",
       "       43, 53, 50, 58, 47, 45, 51, 43, 58, 42, 52, 49, 40, 49, 54, 55, 48,\n",
       "       46, 66, 55, 49, 52, 49, 50, 43, 49, 44, 38, 43, 48, 54, 54, 40, 53,\n",
       "       53, 46, 41, 53, 52, 56, 65, 55, 56, 49, 53, 55, 56, 50, 56, 46, 53,\n",
       "       49, 49, 44, 49, 55, 56, 51, 53, 50, 50, 50, 47, 50, 51, 49, 45, 57,\n",
       "       49, 49, 44, 45, 42, 44, 49, 43, 48, 52, 56, 59, 46, 45, 41, 46, 47,\n",
       "       43, 46, 46, 59, 47, 48, 54, 57, 51, 46, 42, 49, 53, 45, 51, 48, 55,\n",
       "       51, 48, 55, 45, 60, 44, 48, 50, 48, 46, 45, 48, 47, 43, 48, 44, 46,\n",
       "       49, 57, 55, 47, 50, 51, 48, 45, 52, 57, 49, 47, 54, 60, 45, 60, 57,\n",
       "       45, 59, 47, 46, 59, 49, 49, 50, 57, 53, 61, 47, 54, 46, 54, 52, 60,\n",
       "       55, 52, 52, 49, 56, 56, 50, 48, 50, 59, 51, 43, 51, 54, 40, 48, 51,\n",
       "       52, 39, 52, 44, 55, 43, 56, 54, 53, 48, 45, 47, 48, 45, 57, 54, 44,\n",
       "       55, 49, 41, 51, 49, 50, 52, 53, 42, 50, 45, 50, 47, 56, 57, 39, 54,\n",
       "       54, 50, 53, 57, 51, 56, 51, 53, 40, 47, 50, 51, 51, 35, 50, 51, 48,\n",
       "       46, 46, 52, 48, 40, 47, 53, 53, 55, 44, 55, 52, 50, 49, 48, 50, 47,\n",
       "       51, 45, 60, 48, 43, 47, 50, 57, 40, 45, 44, 48, 49, 47, 51, 56, 49,\n",
       "       44, 50, 49, 49, 40, 56, 46, 57, 58, 52, 43, 50, 49, 48, 40, 50, 46,\n",
       "       52, 49, 43, 54, 58, 54, 49, 48, 58, 49, 49, 56, 51, 50, 53, 52, 49,\n",
       "       54, 43, 46, 47, 56, 54, 46, 38, 48, 42, 44, 57, 58, 50, 55, 48, 49,\n",
       "       53, 49, 54, 49, 50, 46, 50, 58, 58, 50, 51, 47, 43, 46, 55, 44, 48,\n",
       "       46, 48, 55, 44, 42, 50, 53, 56, 49, 45, 54, 54, 49, 49, 61, 52, 50,\n",
       "       58, 48, 47, 46, 60, 50, 44, 46, 38, 47, 51, 47, 51, 49, 46, 46, 51,\n",
       "       50, 51, 47, 47, 43, 50, 49, 56, 48, 46, 47, 51, 45, 54, 49, 45, 44,\n",
       "       48, 44, 43, 47, 46, 44, 46, 52, 64, 47, 51, 50, 49, 49, 47, 57, 49,\n",
       "       54, 52, 50, 39, 64, 52, 50, 45, 52, 48, 44, 47, 52, 44, 52, 37, 52,\n",
       "       47, 44, 61, 48, 43, 43, 46, 45, 57, 54, 47, 41, 52, 64, 47, 56, 46,\n",
       "       45, 52, 54, 53, 49, 48, 50, 52, 43, 43, 52, 50, 49, 49, 53, 38, 44,\n",
       "       43, 57, 56, 42, 42, 41, 51, 49, 49, 55, 58, 53, 49, 46, 46, 49, 44,\n",
       "       52, 42, 46, 43, 56, 61, 50, 48, 56, 48, 54, 56, 46, 43, 49, 43, 44,\n",
       "       57, 54, 53, 43, 50, 48, 55, 53, 61, 47, 43, 44, 46, 47, 49, 54, 54,\n",
       "       52, 52, 47, 41, 55, 53, 49, 54, 56, 53, 41, 46, 45, 55, 42, 49, 50,\n",
       "       53, 55, 47, 50, 42, 50, 50, 48, 44, 41, 43, 46, 49, 44, 47, 48, 50,\n",
       "       51, 43, 50, 49, 51, 50, 44, 53, 52, 54, 50, 52, 42, 48, 54, 44, 41,\n",
       "       52, 56, 47, 44, 55, 51, 42, 50, 45, 55, 56, 50, 59, 52, 54, 48, 43,\n",
       "       56, 49, 51, 44, 49, 54, 53, 50, 49, 53, 54, 52, 52, 49, 52, 55, 55,\n",
       "       54, 50, 48, 44, 50, 46, 62, 52, 49, 50, 42, 46, 55, 50, 47, 54, 42,\n",
       "       49, 46, 61, 52, 57, 57, 50, 50, 40, 43, 47, 50, 60, 46, 45, 48, 58,\n",
       "       42, 43, 52, 48, 57, 50, 52, 60, 44, 56, 51, 56, 46, 53, 48, 46, 45,\n",
       "       62, 44, 59, 45, 50, 48, 48, 47, 41, 53, 43, 49, 46, 52, 44, 49, 58,\n",
       "       52, 50, 58, 50, 46, 46, 46, 51, 62, 42, 51, 37, 56, 51, 50, 57, 43,\n",
       "       40, 45, 44, 51, 50, 46, 61, 47, 47, 51, 51, 58, 49, 55, 44, 52, 48,\n",
       "       43, 55, 41, 56, 47, 48, 54, 48, 53, 52, 53, 48, 48, 45, 45, 45, 48,\n",
       "       53, 57, 47, 46, 45, 46, 49, 43, 51, 50, 55, 49, 50, 46, 38, 49, 50,\n",
       "       39, 45, 46, 54, 50, 47, 43, 50, 51, 50, 42, 50, 56, 48, 50, 53, 45,\n",
       "       45, 54, 41, 49, 44, 41, 37, 45, 53, 46, 49, 53, 52, 49, 46, 45, 48,\n",
       "       48, 42, 57, 56, 50, 51, 52, 56, 52, 49, 42, 46, 50, 48, 56, 49, 53,\n",
       "       47, 52, 54, 51, 43, 57, 53, 46, 42, 42, 52, 43, 50, 52, 41, 48, 48,\n",
       "       39, 48, 44, 36, 60, 51, 45, 46, 49, 57, 47, 52, 45, 51, 56, 56, 48,\n",
       "       54, 49, 50, 49, 51, 51, 50, 44, 53, 51, 45, 49, 44, 56, 52, 56, 55,\n",
       "       55, 48, 41, 49, 49, 51, 58, 45, 53, 47, 43, 44, 51, 54, 64, 50, 57,\n",
       "       53, 58, 46, 55, 50, 57, 48, 51, 52, 45, 55, 53, 58, 51, 48, 53, 44,\n",
       "       54, 52, 58, 53, 43, 58, 59, 52, 47, 53, 54, 59, 51, 47, 51, 50, 47,\n",
       "       55, 51, 53, 40, 55, 45, 59, 51, 57, 38, 58, 52, 53, 51])"
      ]
     },
     "execution_count": 10,
     "metadata": {},
     "output_type": "execute_result"
    }
   ],
   "source": [
    "np.random.binomial(100, 0.5, 1000)"
   ]
  },
  {
   "cell_type": "code",
   "execution_count": 12,
   "metadata": {},
   "outputs": [],
   "source": [
    "import matplotlib.pyplot as pl"
   ]
  },
  {
   "cell_type": "code",
   "execution_count": 14,
   "metadata": {},
   "outputs": [
    {
     "data": {
      "image/png": "[encoded data removed]",
      "text/plain": [
       "<Figure size 432x288 with 1 Axes>"
      ]
     },
     "metadata": {},
     "output_type": "display_data"
    }
   ],
   "source": [
    "pl.hist(np.random.binomial(1, 0.5, 1000))\n",
    "pl.show()"
   ]
  },
  {
   "cell_type": "code",
   "execution_count": 16,
   "metadata": {},
   "outputs": [
    {
     "data": {
      "image/png": "[encoded data removed]",
      "text/plain": [
       "<Figure size 432x288 with 1 Axes>"
      ]
     },
     "metadata": {},
     "output_type": "display_data"
    }
   ],
   "source": [
    "pl.hist(np.random.binomial(100, 0.5, 1000))\n",
    "pl.show()"
   ]
  },
  {
   "cell_type": "code",
   "execution_count": null,
   "metadata": {},
   "outputs": [],
   "source": []
  }
 ],
 "metadata": {
  "kernelspec": {
   "display_name": "Python 3",
   "language": "python",
   "name": "python3"
  },
  "language_info": {
   "codemirror_mode": {
    "name": "ipython",
    "version": 3
   },
   "file_extension": ".py",
   "mimetype": "text/x-python",
   "name": "python",
   "nbconvert_exporter": "python",
   "pygments_lexer": "ipython3",
   "version": "3.6.5"
  }
 },
 "nbformat": 4,
 "nbformat_minor": 2
}
