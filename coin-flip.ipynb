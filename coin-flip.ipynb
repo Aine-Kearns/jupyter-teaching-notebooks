{
 "cells": [
  {
   "cell_type": "markdown",
   "metadata": {},
   "source": [
    "# Coin flipping"
   ]
  },
  {
   "cell_type": "code",
   "execution_count": 1,
   "metadata": {},
   "outputs": [],
   "source": [
    "import numpy as np"
   ]
  },
  {
   "cell_type": "code",
   "execution_count": 2,
   "metadata": {},
   "outputs": [
    {
     "data": {
      "text/plain": [
       "array([0])"
      ]
     },
     "execution_count": 2,
     "metadata": {},
     "output_type": "execute_result"
    }
   ],
   "source": [
    "np.random.binomial(1, 0.5, 1)"
   ]
  },
  {
   "cell_type": "code",
   "execution_count": 3,
   "metadata": {},
   "outputs": [
    {
     "data": {
      "text/plain": [
       "array([1])"
      ]
     },
     "execution_count": 3,
     "metadata": {},
     "output_type": "execute_result"
    }
   ],
   "source": [
    "np.random.binomial(1, 0.5, 1)"
   ]
  },
  {
   "cell_type": "code",
   "execution_count": 4,
   "metadata": {},
   "outputs": [
    {
     "data": {
      "text/plain": [
       "array([1, 1, 1, 0, 0, 1, 1, 1, 1, 1, 0, 0, 1, 1, 0, 1, 1, 0, 0, 1, 1, 0,\n",
       "       1, 1, 1, 0, 0, 1, 1, 1, 0, 0, 0, 1, 0, 1, 0, 1, 0, 0, 1, 1, 0, 0,\n",
       "       1, 1, 0, 1, 1, 0, 1, 1, 0, 1, 0, 0, 1, 1, 1, 1, 1, 1, 0, 0, 0, 1,\n",
       "       0, 1, 0, 1, 0, 1, 0, 1, 0, 1, 0, 1, 0, 1, 0, 1, 1, 0, 1, 0, 0, 0,\n",
       "       0, 1, 1, 1, 0, 1, 0, 1, 1, 1, 0, 0])"
      ]
     },
     "execution_count": 4,
     "metadata": {},
     "output_type": "execute_result"
    }
   ],
   "source": [
    "np.random.binomial(1, 0.5, 100)"
   ]
  },
  {
   "cell_type": "code",
   "execution_count": 5,
   "metadata": {},
   "outputs": [
    {
     "data": {
      "text/plain": [
       "array([50, 42, 49, 41, 57, 52, 47, 57, 45, 52, 56, 47, 55, 52, 52, 48, 49,\n",
       "       45, 44, 43, 48, 58, 48, 46, 40, 52, 43, 52, 43, 49, 48, 57, 45, 49,\n",
       "       55, 47, 60, 38, 51, 54, 45, 42, 52, 52, 53, 52, 50, 49, 57, 58, 56,\n",
       "       50, 50, 41, 46, 50, 46, 50, 49, 50, 50, 53, 55, 46, 51, 45, 46, 50,\n",
       "       57, 48, 45, 48, 46, 43, 50, 57, 51, 49, 52, 47, 47, 48, 57, 58, 58,\n",
       "       49, 51, 45, 52, 48, 47, 50, 47, 49, 46, 54, 48, 52, 49, 50, 46, 44,\n",
       "       49, 52, 45, 46, 51, 49, 57, 60, 52, 59, 45, 48, 52, 51, 45, 50, 63,\n",
       "       56, 51, 43, 52, 48, 46, 53, 55, 50, 50, 47, 44, 46, 52, 47, 44, 49,\n",
       "       53, 53, 48, 46, 47, 51, 44, 52, 51, 54, 48, 51, 45, 62, 55, 46, 58,\n",
       "       55, 55, 64, 50, 52, 47, 53, 49, 48, 52, 49, 53, 53, 45, 55, 46, 46,\n",
       "       39, 44, 64, 54, 56, 45, 50, 47, 53, 45, 48, 58, 53, 41, 54, 51, 46,\n",
       "       50, 60, 43, 53, 46, 53, 47, 50, 51, 55, 50, 49, 43, 54, 47, 51, 56,\n",
       "       49, 38, 35, 52, 48, 55, 48, 46, 51, 40, 52, 44, 53, 44, 52, 48, 49,\n",
       "       48, 54, 49, 55, 51, 46, 45, 54, 46, 52, 56, 52, 58, 57, 48, 43, 48,\n",
       "       53, 45, 59, 57, 44, 44, 53, 45, 52, 51, 51, 49, 43, 49, 53, 51, 44,\n",
       "       43, 56, 54, 44, 49, 46, 47, 43, 50, 56, 50, 59, 50, 43, 47, 48, 47,\n",
       "       53, 48, 54, 48, 52, 51, 54, 45, 56, 54, 45, 54, 53, 48, 53, 52, 54,\n",
       "       57, 49, 62, 53, 50, 38, 52, 51, 58, 58, 52, 58, 52, 51, 39, 45, 43,\n",
       "       56, 43, 51, 48, 49, 54, 54, 58, 51, 55, 53, 46, 54, 49, 52, 61, 50,\n",
       "       54, 50, 59, 50, 48, 58, 43, 53, 48, 53, 53, 46, 50, 43, 52, 44, 48,\n",
       "       53, 45, 54, 53, 59, 46, 46, 49, 49, 45, 55, 45, 52, 45, 45, 48, 44,\n",
       "       45, 46, 42, 55, 45, 54, 52, 44, 45, 48, 48, 61, 51, 58, 55, 57, 49,\n",
       "       48, 58, 56, 48, 47, 51, 55, 60, 47, 54, 46, 40, 56, 50, 47, 56, 57,\n",
       "       45, 51, 56, 54, 50, 49, 42, 53, 48, 46, 40, 58, 55, 58, 47, 45, 45,\n",
       "       45, 51, 50, 51, 49, 60, 46, 57, 55, 46, 56, 48, 47, 51, 49, 48, 46,\n",
       "       49, 39, 49, 57, 50, 49, 46, 42, 62, 46, 49, 51, 53, 54, 51, 48, 49,\n",
       "       50, 44, 48, 47, 57, 57, 51, 47, 49, 51, 46, 58, 52, 46, 55, 47, 60,\n",
       "       53, 43, 49, 52, 59, 45, 51, 48, 48, 41, 50, 50, 49, 50, 51, 46, 43,\n",
       "       53, 50, 47, 49, 64, 51, 54, 41, 48, 51, 55, 46, 51, 58, 46, 52, 48,\n",
       "       57, 57, 52, 46, 59, 57, 45, 58, 65, 59, 54, 56, 53, 53, 56, 49, 47,\n",
       "       50, 49, 51, 51, 49, 51, 43, 47, 56, 58, 49, 55, 48, 48, 46, 52, 54,\n",
       "       48, 42, 43, 47, 52, 56, 42, 45, 56, 52, 47, 54, 39, 46, 47, 48, 49,\n",
       "       54, 54, 56, 52, 43, 58, 37, 50, 60, 49, 47, 47, 49, 53, 56, 53, 41,\n",
       "       48, 53, 57, 51, 52, 47, 47, 49, 51, 51, 53, 43, 54, 50, 55, 49, 53,\n",
       "       48, 56, 54, 49, 55, 47, 46, 53, 48, 51, 49, 56, 47, 53, 56, 54, 53,\n",
       "       53, 61, 47, 50, 49, 57, 48, 50, 52, 50, 44, 50, 54, 48, 46, 54, 48,\n",
       "       42, 39, 45, 37, 44, 51, 48, 49, 48, 47, 49, 53, 52, 52, 59, 49, 47,\n",
       "       49, 53, 50, 44, 53, 50, 47, 48, 53, 51, 45, 52, 48, 50, 38, 51, 52,\n",
       "       51, 48, 53, 55, 48, 47, 46, 57, 44, 55, 53, 46, 51, 47, 48, 53, 48,\n",
       "       55, 50, 40, 53, 41, 48, 56, 47, 55, 50, 50, 43, 44, 48, 55, 48, 48,\n",
       "       46, 47, 37, 51, 44, 43, 51, 51, 50, 50, 48, 56, 47, 50, 50, 43, 47,\n",
       "       55, 54, 55, 57, 45, 54, 37, 45, 42, 53, 47, 52, 56, 41, 52, 48, 53,\n",
       "       51, 46, 48, 48, 54, 42, 45, 56, 46, 50, 47, 45, 47, 47, 62, 50, 56,\n",
       "       53, 54, 47, 42, 45, 55, 57, 47, 58, 47, 45, 42, 45, 50, 42, 51, 47,\n",
       "       56, 53, 47, 50, 47, 48, 43, 53, 46, 52, 52, 48, 48, 57, 56, 49, 49,\n",
       "       49, 51, 58, 52, 52, 42, 46, 51, 57, 50, 46, 53, 56, 47, 47, 39, 51,\n",
       "       51, 50, 52, 49, 39, 41, 62, 41, 42, 51, 49, 43, 55, 45, 37, 51, 52,\n",
       "       42, 46, 57, 52, 51, 49, 53, 51, 48, 46, 53, 51, 57, 53, 50, 60, 54,\n",
       "       50, 48, 53, 53, 57, 53, 51, 48, 44, 49, 43, 52, 47, 56, 47, 52, 54,\n",
       "       56, 55, 44, 47, 57, 50, 50, 46, 49, 48, 49, 41, 53, 50, 52, 58, 46,\n",
       "       50, 52, 51, 50, 49, 46, 42, 52, 52, 50, 45, 45, 54, 40, 40, 54, 56,\n",
       "       64, 57, 50, 43, 45, 46, 52, 48, 54, 52, 44, 55, 41, 50, 50, 63, 56,\n",
       "       53, 52, 53, 50, 50, 48, 42, 50, 54, 43, 56, 47, 55, 54, 45, 53, 49,\n",
       "       48, 53, 38, 50, 47, 40, 46, 50, 51, 49, 46, 54, 50, 45, 50, 48, 52,\n",
       "       44, 52, 41, 61, 47, 50, 55, 47, 45, 51, 47, 51, 48, 41, 52, 48, 44,\n",
       "       61, 55, 45, 52, 46, 54, 56, 38, 53, 50, 45, 52, 55, 55, 51, 42, 59,\n",
       "       50, 44, 66, 53, 40, 53, 51, 52, 56, 47, 52, 49, 52, 55, 62, 46, 50,\n",
       "       45, 44, 50, 50, 53, 51, 43, 46, 56, 51, 44, 50, 46, 48, 56, 49, 44,\n",
       "       52, 44, 47, 49, 50, 52, 50, 57, 44, 55, 52, 58, 50, 44])"
      ]
     },
     "execution_count": 5,
     "metadata": {},
     "output_type": "execute_result"
    }
   ],
   "source": [
    "np.random.binomial(100, 0.5, 1000)"
   ]
  },
  {
   "cell_type": "code",
   "execution_count": 6,
   "metadata": {},
   "outputs": [],
   "source": [
    "import matplotlib.pyplot as pl"
   ]
  },
  {
   "cell_type": "code",
   "execution_count": 7,
   "metadata": {},
   "outputs": [
    {
     "data": {
      "image/png": "[encoded data removed]",
      "text/plain": [
       "<Figure size 432x288 with 1 Axes>"
      ]
     },
     "metadata": {},
     "output_type": "display_data"
    }
   ],
   "source": [
    "pl.hist(np.random.binomial(1, 0.5, 1000))\n",
    "pl.show()"
   ]
  },
  {
   "cell_type": "code",
   "execution_count": 8,
   "metadata": {},
   "outputs": [
    {
     "data": {
      "image/png": "[encoded data removed]",
      "text/plain": [
       "<Figure size 432x288 with 1 Axes>"
      ]
     },
     "metadata": {},
     "output_type": "display_data"
    }
   ],
   "source": [
    "pl.hist(np.random.binomial(100, 0.5, 1000))\n",
    "pl.show()"
   ]
  },
  {
   "cell_type": "code",
   "execution_count": 9,
   "metadata": {},
   "outputs": [
    {
     "data": {
      "image/png": "[encoded data removed]",
      "text/plain": [
       "<Figure size 432x288 with 1 Axes>"
      ]
     },
     "metadata": {},
     "output_type": "display_data"
    }
   ],
   "source": [
    "import seaborn as sns\n",
    "\n",
    "coins = np.random.binomial(1, 0.5, 1000)\n",
    "tails = len(coins[coins == 0])\n",
    "heads = len(coins) - tails\n",
    "sns.barplot(np.array([\"Heads\", \"Tails\"]), np.array([heads, tails]))\n",
    "sns.despine(bottom=True)\n",
    "\n",
    "pl.show()"
   ]
  },
  {
   "cell_type": "code",
   "execution_count": null,
   "metadata": {},
   "outputs": [],
   "source": []
  }
 ],
 "metadata": {
  "kernelspec": {
   "display_name": "Python 3",
   "language": "python",
   "name": "python3"
  },
  "language_info": {
   "codemirror_mode": {
    "name": "ipython",
    "version": 3
   },
   "file_extension": ".py",
   "mimetype": "text/x-python",
   "name": "python",
   "nbconvert_exporter": "python",
   "pygments_lexer": "ipython3",
   "version": "3.6.5"
  }
 },
 "nbformat": 4,
 "nbformat_minor": 2
}
