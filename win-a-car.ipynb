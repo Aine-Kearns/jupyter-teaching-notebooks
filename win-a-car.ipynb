{
 "cells": [
  {
   "cell_type": "markdown",
   "metadata": {},
   "source": [
    "# Win a car\n",
    "\n",
    "The purpose of this Jupyter notebook is twofold.\n",
    "First, you'll play a simple game where you are required to make two choices.\n",
    "You'll be asked to submit the results of you playing the game at the end.\n",
    "The outcome of your game will be combined with the outcomes of your classmates to see if there are any trends.\n",
    "Second, the sheet will be a quick (re-)introduction to Jupyter notebooks and Python.\n",
    "\n",
    "This is just a bit of fun (if you're into that sort of thing).\n",
    "Please just play the game the way you feel it."
   ]
  },
  {
   "cell_type": "markdown",
   "metadata": {},
   "source": [
    "## Background\n",
    "\n",
    "The game we're going to play is from an old TV show.\n",
    "The contestant, after going through a number of rounds and beating their rivals, is given the opportunity to win a car.\n",
    "They're presented with three closed doors: A, B and C.\n",
    "They're told that a car has randomly been placed behind one of these doors and goats behind the other two.\n",
    "All they have to do is pick a door to open.\n",
    "There's no extra information and there's no puzzle to solve - it's a straight-forward game of chance.\n",
    "\n",
    "Now, there are a couple of things I'd like to know from before you play the game.\n",
    "Please don't Google any of the following before you get through the whole notebook and submit your game.\n",
    "There's no good reason to, remember this is just for fun.\n",
    "It you do Google anything, you'll just end up skewing the overall results of the class.\n",
    "\n",
    "So, first of all, I'd like you to set four different variables to either True or False in the cell below.\n",
    "These are as follows.\n",
    "\n",
    "einstein\n",
    ": set to True if you have ever heard of someone called Albert Einstein, False otherwise.\n",
    "monty\n",
    ": set to True if you have ever heard of someone called Monty Hall, False otherwise.\n",
    "savant\n",
    ": set to True if you have ever heard of someone called Marilyn vos Savant, False otherwise.\n",
    "game\n",
    ": set to True if you have ever heard of this game (involving cars and goats) before, False otherwise.\n",
    "\n",
    "So, for instance, if you know how Einstein is but not Monty Hall or Marilyn vos Savant and you've never heard of a game with goats behind doors before then type the following in the cell below and press Shift+Enter.\n",
    "\n",
    "```python\n",
    "einstein = True\n",
    "monty = False\n",
    "savant = False\n",
    "game = False\n",
    "```"
   ]
  },
  {
   "cell_type": "code",
   "execution_count": 1,
   "metadata": {},
   "outputs": [],
   "source": [
    "einstein = True\n",
    "monty = False\n",
    "savant = False\n",
    "game = False"
   ]
  },
  {
   "cell_type": "code",
   "execution_count": 3,
   "metadata": {},
   "outputs": [],
   "source": [
    "import random\n",
    "\n",
    "doors = ['A', 'B', 'C']\n",
    "\n",
    "car = random.choice(doors)\n",
    "pick = random.choice(doors)\n",
    "\n",
    "show = random.choice([door for door in doors if door != car and door != pick])"
   ]
  },
  {
   "cell_type": "code",
   "execution_count": null,
   "metadata": {},
   "outputs": [],
   "source": []
  }
 ],
 "metadata": {
  "kernelspec": {
   "display_name": "Python 3",
   "language": "python",
   "name": "python3"
  },
  "language_info": {
   "codemirror_mode": {
    "name": "ipython",
    "version": 3
   },
   "file_extension": ".py",
   "mimetype": "text/x-python",
   "name": "python",
   "nbconvert_exporter": "python",
   "pygments_lexer": "ipython3",
   "version": "3.6.6"
  }
 },
 "nbformat": 4,
 "nbformat_minor": 2
}
