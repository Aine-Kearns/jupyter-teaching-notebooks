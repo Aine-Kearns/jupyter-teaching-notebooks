{
 "cells": [
  {
   "cell_type": "markdown",
   "metadata": {},
   "source": [
    "# Data types\n",
    "\n",
    "![Banner - circuits](https://github.com/ianmcloughlin/images/raw/master/banner-circuit.jpg)\n"
   ]
  },
  {
   "cell_type": "markdown",
   "metadata": {},
   "source": [
    "\n",
    "\n",
    "#### Python\n",
    "\n",
    "<hr style=\"border: 2px solid #2196f3;\">"
   ]
  },
  {
   "cell_type": "code",
   "execution_count": 1,
   "metadata": {},
   "outputs": [],
   "source": [
    "i = 1\n",
    "f = 1.0\n",
    "s = \"1\""
   ]
  },
  {
   "cell_type": "code",
   "execution_count": 2,
   "metadata": {},
   "outputs": [
    {
     "data": {
      "text/plain": [
       "int"
      ]
     },
     "execution_count": 2,
     "metadata": {},
     "output_type": "execute_result"
    }
   ],
   "source": [
    "type(i)"
   ]
  },
  {
   "cell_type": "code",
   "execution_count": 3,
   "metadata": {},
   "outputs": [
    {
     "data": {
      "text/plain": [
       "float"
      ]
     },
     "execution_count": 3,
     "metadata": {},
     "output_type": "execute_result"
    }
   ],
   "source": [
    "type(f)"
   ]
  },
  {
   "cell_type": "code",
   "execution_count": 4,
   "metadata": {},
   "outputs": [
    {
     "data": {
      "text/plain": [
       "str"
      ]
     },
     "execution_count": 4,
     "metadata": {},
     "output_type": "execute_result"
    }
   ],
   "source": [
    "type(s)"
   ]
  },
  {
   "cell_type": "markdown",
   "metadata": {},
   "source": [
    "#### Operations\n",
    "\n",
    "<hr style=\"border: 2px solid #2196f3;\">"
   ]
  },
  {
   "cell_type": "code",
   "execution_count": 10,
   "metadata": {},
   "outputs": [
    {
     "data": {
      "text/plain": [
       "10"
      ]
     },
     "execution_count": 10,
     "metadata": {},
     "output_type": "execute_result"
    }
   ],
   "source": [
    "i * 10"
   ]
  },
  {
   "cell_type": "code",
   "execution_count": 11,
   "metadata": {},
   "outputs": [
    {
     "data": {
      "text/plain": [
       "10.0"
      ]
     },
     "execution_count": 11,
     "metadata": {},
     "output_type": "execute_result"
    }
   ],
   "source": [
    "f * 10"
   ]
  },
  {
   "cell_type": "code",
   "execution_count": 12,
   "metadata": {},
   "outputs": [
    {
     "data": {
      "text/plain": [
       "'1111111111'"
      ]
     },
     "execution_count": 12,
     "metadata": {},
     "output_type": "execute_result"
    }
   ],
   "source": [
    "s * 10"
   ]
  },
  {
   "cell_type": "markdown",
   "metadata": {},
   "source": [
    "#### Binary\n",
    "\n",
    "<hr style=\"border: 2px solid #2196f3;\">"
   ]
  },
  {
   "cell_type": "code",
   "execution_count": 24,
   "metadata": {},
   "outputs": [],
   "source": [
    "import struct"
   ]
  },
  {
   "cell_type": "code",
   "execution_count": 27,
   "metadata": {},
   "outputs": [
    {
     "data": {
      "text/plain": [
       "'0b1'"
      ]
     },
     "execution_count": 27,
     "metadata": {},
     "output_type": "execute_result"
    }
   ],
   "source": [
    "bin(i)"
   ]
  },
  {
   "cell_type": "code",
   "execution_count": 36,
   "metadata": {},
   "outputs": [
    {
     "data": {
      "text/plain": [
       "b'?\\x80\\x00\\x00'"
      ]
     },
     "execution_count": 36,
     "metadata": {},
     "output_type": "execute_result"
    }
   ],
   "source": [
    "struct.pack('!f', f)"
   ]
  },
  {
   "cell_type": "code",
   "execution_count": 28,
   "metadata": {},
   "outputs": [
    {
     "data": {
      "text/plain": [
       "'0b111111100000000000000000000000'"
      ]
     },
     "execution_count": 28,
     "metadata": {},
     "output_type": "execute_result"
    }
   ],
   "source": [
    "bin(struct.unpack('!i',struct.pack('!f', f))[0])"
   ]
  },
  {
   "cell_type": "code",
   "execution_count": 33,
   "metadata": {},
   "outputs": [
    {
     "data": {
      "text/plain": [
       "'0b110001'"
      ]
     },
     "execution_count": 33,
     "metadata": {},
     "output_type": "execute_result"
    }
   ],
   "source": [
    "' '.join(map(bin, bytearray(s, 'ascii')))"
   ]
  },
  {
   "cell_type": "markdown",
   "metadata": {},
   "source": [
    "**[https://docs.python.org/3.8/tutorial/floatingpoint.html](https://docs.python.org/3.8/tutorial/floatingpoint.html)**"
   ]
  },
  {
   "cell_type": "markdown",
   "metadata": {},
   "source": [
    "#### Scales of Measurement\n",
    "\n",
    "<hr style=\"border: 2px solid #2196f3;\">"
   ]
  },
  {
   "cell_type": "markdown",
   "metadata": {},
   "source": [
    "[https://github.com/ianmcloughlin/papers/raw/master/stevens-on-the-theory-of-scales-of-measurement.pdf](https://github.com/ianmcloughlin/papers/raw/master/stevens-on-the-theory-of-scales-of-measurement.pdf)"
   ]
  },
  {
   "cell_type": "markdown",
   "metadata": {},
   "source": [
    "[https://www.ibm.com/support/knowledgecenter/en/SSLVMB_23.0.0/spss/base/dialog_icons.html](https://www.ibm.com/support/knowledgecenter/en/SSLVMB_23.0.0/spss/base/dialog_icons.html)"
   ]
  },
  {
   "cell_type": "markdown",
   "metadata": {},
   "source": [
    "#### Data isn't just for computers\n",
    "\n",
    "<hr style=\"border: 2px solid #2196f3;\">"
   ]
  },
  {
   "cell_type": "markdown",
   "metadata": {},
   "source": [
    "[https://www.wtamu.edu/~cbaird/sq/2015/09/03/can-humans-ever-directly-see-a-photon/](https://www.wtamu.edu/~cbaird/sq/2015/09/03/can-humans-ever-directly-see-a-photon/)"
   ]
  },
  {
   "cell_type": "markdown",
   "metadata": {},
   "source": [
    "#### Just veneer?\n",
    "\n",
    "<hr style=\"border: 2px solid #2196f3;\">"
   ]
  },
  {
   "cell_type": "markdown",
   "metadata": {},
   "source": [
    "*Sets*\n",
    "\n",
    "\n",
    "Collection of objects.\n",
    "\n",
    "\n",
    "$$S = \\{D, A, C, B, E, G, F\\}$$"
   ]
  },
  {
   "cell_type": "markdown",
   "metadata": {},
   "source": [
    "*Size*\n",
    "\n",
    "Number of elements.\n",
    "\n",
    "$$|S| = 7: D \\leftrightarrow 1;A \\leftrightarrow 2;C \\leftrightarrow 3;B \\leftrightarrow 4;E \\leftrightarrow 5;G \\leftrightarrow 6;F \\leftrightarrow 7$$"
   ]
  },
  {
   "cell_type": "markdown",
   "metadata": {},
   "source": [
    "*Orders*\n",
    "\n",
    "Separate idea from sets.\n",
    "\n",
    "$$S = \\{D, A, C, B, E, G, F\\} = \\{A,B,C,D,E,F,G\\}$$"
   ]
  },
  {
   "cell_type": "markdown",
   "metadata": {},
   "source": [
    "#### Infinite sets\n",
    "\n",
    "<hr style=\"border: 2px solid #2196f3;\">\n",
    "\n",
    "\n",
    "$$\\mathbb{N} = \\{1,2,3,\\ldots\\}$$\n",
    "\n",
    "$$2 \\mathbb{N} = \\{2,4,6,\\ldots\\}$$\n",
    "\n",
    "$$\\mathbb{N} \\leftrightarrow 2 \\mathbb{N}: 1 \\leftrightarrow 2; 2 \\leftrightarrow 4; 3 \\leftrightarrow 6; \\ldots$$"
   ]
  },
  {
   "cell_type": "markdown",
   "metadata": {},
   "source": [
    "*Enumeration*\n",
    "\n",
    "$$\\mathbb{R}$$\n",
    "\n",
    "![NUmber line](https://upload.wikimedia.org/wikipedia/commons/thumb/1/19/Number_line_with_numbers_-3_to_3.svg/320px-Number_line_with_numbers_-3_to_3.svg.png)\n",
    "\n",
    "What number comes directly after 1?"
   ]
  },
  {
   "cell_type": "code",
   "execution_count": null,
   "metadata": {},
   "outputs": [],
   "source": []
  }
 ],
 "metadata": {
  "kernelspec": {
   "display_name": "Python 3",
   "language": "python",
   "name": "python3"
  },
  "language_info": {
   "codemirror_mode": {
    "name": "ipython",
    "version": 3
   },
   "file_extension": ".py",
   "mimetype": "text/x-python",
   "name": "python",
   "nbconvert_exporter": "python",
   "pygments_lexer": "ipython3",
   "version": "3.8.5"
  }
 },
 "nbformat": 4,
 "nbformat_minor": 4
}
