{
 "cells": [
  {
   "cell_type": "markdown",
   "metadata": {},
   "source": [
    "# Python fundamentals"
   ]
  },
  {
   "cell_type": "markdown",
   "metadata": {},
   "source": [
    "## Why learn Python?\n",
    "\n",
    "- The main language for Raspberry Pi.\n",
    "- Common machine learning language.\n",
    "- One of Google's main programming languages.\n",
    "- Easy to learn.\n",
    "- Huge community of developers.\n",
    "- Lots of libraries.\n",
    "- Good for data analysis."
   ]
  },
  {
   "cell_type": "markdown",
   "metadata": {},
   "source": [
    "## Features of Python\n",
    "\n",
    "- Easy to read Python code.\n",
    "- Easy to write Python code.\n",
    "- Off-side rule.\n",
    "- Interfaces to C."
   ]
  },
  {
   "cell_type": "markdown",
   "metadata": {},
   "source": [
    "## Hello, world!"
   ]
  },
  {
   "cell_type": "code",
   "execution_count": 6,
   "metadata": {},
   "outputs": [
    {
     "name": "stdout",
     "output_type": "stream",
     "text": [
      "Hello, world!\n"
     ]
    }
   ],
   "source": [
    "print(\"Hello, world!\")"
   ]
  },
  {
   "cell_type": "markdown",
   "metadata": {},
   "source": [
    "## Comments"
   ]
  },
  {
   "cell_type": "code",
   "execution_count": 7,
   "metadata": {},
   "outputs": [
    {
     "name": "stdout",
     "output_type": "stream",
     "text": [
      "Hello, world!\n"
     ]
    }
   ],
   "source": [
    "# The following statement prints \"Hello, world!\" to the console.\n",
    "print(\"Hello, world!\") # This is a common first program."
   ]
  },
  {
   "cell_type": "markdown",
   "metadata": {},
   "source": [
    "## Numbers"
   ]
  },
  {
   "cell_type": "code",
   "execution_count": 18,
   "metadata": {},
   "outputs": [
    {
     "name": "stdout",
     "output_type": "stream",
     "text": [
      "5\n",
      "3.14\n",
      "3\n"
     ]
    }
   ],
   "source": [
    "i = 5\n",
    "f = 3.14\n",
    "\n",
    "print(i)\n",
    "print(f)\n",
    "print(int(f))"
   ]
  },
  {
   "cell_type": "markdown",
   "metadata": {},
   "source": [
    "## Strings"
   ]
  },
  {
   "cell_type": "code",
   "execution_count": 17,
   "metadata": {},
   "outputs": [
    {
     "name": "stdout",
     "output_type": "stream",
     "text": [
      "Hello, world!\n",
      "w\n",
      "world\n",
      "13\n",
      "Gobe optr\n",
      "!retupmoc ,eybdooG\n"
     ]
    }
   ],
   "source": [
    "s1 = \"Hello, world!\"\n",
    "s2 = 'Goodbye, computer!'\n",
    "\n",
    "print(s1) # Print s1\n",
    "print(s1[7]) # Print the 8th characters of s1\n",
    "print(s1[7:12]) # Print characters 7 to 11 of s1\n",
    "print(len(s1)) # Print the length of s1\n",
    "\n",
    "print(s2[::2]) # Print what?\n",
    "print(s2[::-1]) # Print what?"
   ]
  },
  {
   "cell_type": "markdown",
   "metadata": {},
   "source": [
    "## if statements"
   ]
  },
  {
   "cell_type": "code",
   "execution_count": 30,
   "metadata": {},
   "outputs": [
    {
     "name": "stdout",
     "output_type": "stream",
     "text": [
      "5 is 5\n"
     ]
    }
   ],
   "source": [
    "# Use one of the standard library modules.\n",
    "import random\n",
    "# Generate a random single digit integer.\n",
    "i = random.randint(0, 9)\n",
    "\n",
    "if i < 5:\n",
    "    print(i, \"is less than 5\")\n",
    "elif i > 5:\n",
    "    print(i, \"is more than 5\")\n",
    "else:\n",
    "    print(i, \"is 5\")"
   ]
  },
  {
   "cell_type": "code",
   "execution_count": null,
   "metadata": {},
   "outputs": [],
   "source": []
  }
 ],
 "metadata": {
  "kernelspec": {
   "display_name": "Python 3",
   "language": "python",
   "name": "python3"
  },
  "language_info": {
   "codemirror_mode": {
    "name": "ipython",
    "version": 3
   },
   "file_extension": ".py",
   "mimetype": "text/x-python",
   "name": "python",
   "nbconvert_exporter": "python",
   "pygments_lexer": "ipython3",
   "version": "3.6.5"
  }
 },
 "nbformat": 4,
 "nbformat_minor": 2
}
