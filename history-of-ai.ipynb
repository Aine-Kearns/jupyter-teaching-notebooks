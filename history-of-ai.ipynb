{
 "cells": [
  {
   "cell_type": "markdown",
   "metadata": {},
   "source": [
    "# History of Artificial Intelligence"
   ]
  },
  {
   "cell_type": "markdown",
   "metadata": {},
   "source": [
    "In 1956, a conference was held at Dartmouth College in New Hampshire.\n",
    "The proposal was as follows.\n",
    "\n",
    "> We propose that a 2 month, 10 man study of artificial intelligence be carried out during the summer of 1956 at Dartmouth College in Hanover, New Hampshire. The study is to proceed on the basis of the conjecture that every aspect of learning or any other feature of intelligence can in principle be so precisely described that a machine can be made to simulate it. An attempt will be made to find how to make machines use language, form abstractions and concepts, solve kinds of problems now reserved for humans, and improve themselves.\n",
    "\n",
    "The proposal was made by John McCarthy, Marvin Minsky, Nathaniel Rochester and Claude Shannon.\n",
    "It is credited as the first use of the term **artificial intelligence**.\n",
    "\n",
    "![Some Dartmouth conference attendees](http://callisto.ggsrv.com/imgsrv/FastFetch/UBER1/ZI-2483-2006-WIN00-IDSI-86-1)\n",
    "\n",
    "***"
   ]
  },
  {
   "cell_type": "markdown",
   "metadata": {},
   "source": [
    "## A hot topic\n",
    "\n",
    "Artificial intelligence has been a hot topic for about a century, going in and out of fashion.\n",
    "Alan Turing was possibly the first person to formally consider the problem of having a computer \"think\".\n",
    "\n",
    "![Alan Turing](https://upload.wikimedia.org/wikipedia/commons/thumb/a/a1/Alan_Turing_Aged_16.jpg/352px-Alan_Turing_Aged_16.jpg)\n",
    "> The original question, “Can machines think?” I believe to be too meaningless to deserve discussion. - *Alan Turing*\n",
    "\n",
    "Source: [Alan Turing, *Computing Machinery and Intelligence*](http://phil415.pbworks.com/f/TuringComputing.pdf)\n",
    "\n",
    "The revered Noam Chomsky feels that Turing's important insight into the problem has been largely forgotten or sidestepped.\n",
    "\n",
    "\n",
    "![Noam Chomsky](https://upload.wikimedia.org/wikipedia/commons/thumb/a/a9/Noam_Chomsky_portrait_2017.jpg/193px-Noam_Chomsky_portrait_2017.jpg)\n",
    "> That sentence has somehow been ignored...to ask whether machines think is basically asking what kind of metaphor you like...it's like asking do submarines swim? - *Noam Chomsky*\n",
    "\n",
    "Source: [Noam Chomsky - Can Machines Think?](https://www.youtube.com/watch?v=Ex9GbzX6tMo) \n",
    "\n",
    "Bonus material: [Chomsky on Language](http://www.ucd.ie/artspgs/meaningthree/chomskylangnatobj.pdf) and [Noam Chomsky & Marvin Minsky on Artificial Intelligence](https://www.youtube.com/watch?v=x878W3E5mAg#t=42m35s)\n",
    "\n",
    "There is no one definition of artificial intelligence that satisfies everyone, and discussions on artificial intelligence often end in philosophical observations and semantic arguments.\n",
    "\n",
    "***"
   ]
  },
  {
   "cell_type": "markdown",
   "metadata": {},
   "source": [
    "## Chinese room argument\n",
    "\n",
    "[Stanford Encyclopedia of Philosophy entry](https://plato.stanford.edu/entries/chinese-room/)\n",
    "\n",
    "John Searle"
   ]
  },
  {
   "cell_type": "markdown",
   "metadata": {},
   "source": [
    "## McCulloch-Pitts Neurons\n",
    "\n",
    "[McCulloch-Pitts Neurons](http://www.mind.ilstu.edu/curriculum/modOverview.php?modGUI=212)"
   ]
  },
  {
   "cell_type": "markdown",
   "metadata": {},
   "source": [
    "[Minsky InfiniteHistoryProject MIT](https://www.youtube.com/watch?v=EI0NXTrS5Pw)"
   ]
  },
  {
   "cell_type": "markdown",
   "metadata": {},
   "source": [
    "## End"
   ]
  }
 ],
 "metadata": {
  "kernelspec": {
   "display_name": "Python 3",
   "language": "python",
   "name": "python3"
  },
  "language_info": {
   "codemirror_mode": {
    "name": "ipython",
    "version": 3
   },
   "file_extension": ".py",
   "mimetype": "text/x-python",
   "name": "python",
   "nbconvert_exporter": "python",
   "pygments_lexer": "ipython3",
   "version": "3.6.6"
  }
 },
 "nbformat": 4,
 "nbformat_minor": 2
}
